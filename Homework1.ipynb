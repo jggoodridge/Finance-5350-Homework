{
 "cells": [
  {
   "cell_type": "markdown",
   "metadata": {},
   "source": [
    "# Homework Assignment 1"
   ]
  },
  {
   "cell_type": "markdown",
   "metadata": {},
   "source": [
    "## Problem 1, The nugget problem"
   ]
  },
  {
   "cell_type": "code",
   "execution_count": 2,
   "metadata": {},
   "outputs": [],
   "source": [
    "def is_nugget_number(candidate):\n",
    "    for i in range(candidate//6 + 1):\n",
    "        for j in range(candidate//9+1):\n",
    "            for k in range(candidate//20+1):\n",
    "                if(i*6 + j*9 + k*20 == candidate):\n",
    "                    return True\n",
    "    return False "
   ]
  },
  {
   "cell_type": "code",
   "execution_count": 3,
   "metadata": {},
   "outputs": [
    {
     "name": "stdout",
     "output_type": "stream",
     "text": [
      "The largest number you cannot get is 43\n"
     ]
    }
   ],
   "source": [
    "##Main Loop\n",
    "candidate = 20\n",
    "largest = 0\n",
    "in_a_row = 0\n",
    "\n",
    "while (in_a_row < 6):\n",
    "    if (is_nugget_number(candidate)):\n",
    "        in_a_row +=1\n",
    "    else:\n",
    "        in_a_row = 0\n",
    "        largest = candidate\n",
    "    candidate +=1\n",
    "    \n",
    "print(f\"The largest number you cannot get is {largest}\")"
   ]
  },
  {
   "cell_type": "markdown",
   "metadata": {},
   "source": [
    "## Problem 2, Guessing number game"
   ]
  },
  {
   "cell_type": "code",
   "execution_count": 17,
   "metadata": {},
   "outputs": [
    {
     "name": "stdout",
     "output_type": "stream",
     "text": [
      "\tWelcome to 'The number game'!\n",
      "\tI'm thinking of a number between 1 and 100.\n",
      "\tThe computer will guess it in 7 attempts or less.\n",
      "\n",
      "The computers guess was 51\n",
      "The computers guess was 76\n",
      "The computers guess was 88\n",
      "The computers guess was 82\n",
      "The computers guess was 85\n",
      "The computers guess was 83\n",
      "The computer guessed it! The number was 83\n",
      "And it only took 5 tries!\n",
      "\n"
     ]
    }
   ],
   "source": [
    "def print_header():\n",
    "    print(\"\\tWelcome to 'The number game'!\")\n",
    "    print(\"\\tI'm thinking of a number between 1 and 100.\")\n",
    "    print(\"\\tThe computer will guess it in 7 attempts or less.\\n\")\n",
    "\n",
    "def print_footer(my_number, tries):\n",
    "    print(\"The computer guessed it! The number was\", my_number)\n",
    "    print(\"And it only took\", tries, \"tries!\\n\")\n",
    "    \n",
    "def number_guessed(computers_guess):\n",
    "    print(\"The computers guess was\", computers_guess)\n",
    "    \n",
    "def main():\n",
    "    #print the greeting\n",
    "    print_header()\n",
    "        \n",
    "    #set initial values\n",
    "    my_number = 83\n",
    "    high_number = 101\n",
    "    low_number = 1\n",
    "    computers_guess = (high_number+low_number)//2\n",
    "    tries =0\n",
    "    \n",
    "    #the game loop\n",
    "    while computers_guess != my_number:\n",
    "        computers_guess = (high_number+low_number)//2\n",
    "        number_guessed(computers_guess)\n",
    "        if computers_guess < my_number:\n",
    "            low_number = computers_guess\n",
    "        elif computers_guess > my_number:\n",
    "            high_number = computers_guess\n",
    "        else:\n",
    "            computers_guess == my_number\n",
    "            break\n",
    "        tries += 1\n",
    "        \n",
    "    print_footer(my_number, tries)\n",
    "                                \n",
    "if __name__ == \"__main__\":\n",
    "    main()"
   ]
  },
  {
   "cell_type": "code",
   "execution_count": null,
   "metadata": {},
   "outputs": [],
   "source": []
  }
 ],
 "metadata": {
  "kernelspec": {
   "display_name": "Python 3",
   "language": "python",
   "name": "python3"
  },
  "language_info": {
   "codemirror_mode": {
    "name": "ipython",
    "version": 3
   },
   "file_extension": ".py",
   "mimetype": "text/x-python",
   "name": "python",
   "nbconvert_exporter": "python",
   "pygments_lexer": "ipython3",
   "version": "3.7.0"
  }
 },
 "nbformat": 4,
 "nbformat_minor": 2
}
