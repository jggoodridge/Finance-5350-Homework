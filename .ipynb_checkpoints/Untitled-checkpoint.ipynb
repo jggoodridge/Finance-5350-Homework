{
 "cells": [
  {
   "cell_type": "markdown",
   "metadata": {},
   "source": [
    "# Homework Assignment 1"
   ]
  },
  {
   "cell_type": "markdown",
   "metadata": {},
   "source": [
    "## Problem 1, The nugget problem"
   ]
  },
  {
   "cell_type": "code",
   "execution_count": null,
   "metadata": {},
   "outputs": [],
   "source": [
    "def is_nugget_number(candidate):\n",
    "    for i in range(candidate//6 + 1):\n",
    "        for j in range(candidate//9+1):\n",
    "            for k in range(candidate//20+1):\n",
    "                if(i*6 + j*9 + k*20 == candidate):\n",
    "                    return True\n",
    "    return False "
   ]
  },
  {
   "cell_type": "code",
   "execution_count": null,
   "metadata": {},
   "outputs": [],
   "source": [
    "##Main Loop\n",
    "candidate = 20\n",
    "largest = 0\n",
    "in_a_row = 0\n",
    "\n",
    "while (in_a_row < 6):\n",
    "    if (is_nugget_number(candidate)):\n",
    "        in_a_row +=1\n",
    "    else:\n",
    "        in_a_row = 0\n",
    "        largest = candidate\n",
    "    candidate +=1\n",
    "    \n",
    "print(f\"The largest number you cannot get is {largest}\")"
   ]
  }
 ],
 "metadata": {
  "kernelspec": {
   "display_name": "Python 3",
   "language": "python",
   "name": "python3"
  },
  "language_info": {
   "codemirror_mode": {
    "name": "ipython",
    "version": 3
   },
   "file_extension": ".py",
   "mimetype": "text/x-python",
   "name": "python",
   "nbconvert_exporter": "python",
   "pygments_lexer": "ipython3",
   "version": "3.7.0"
  }
 },
 "nbformat": 4,
 "nbformat_minor": 2
}
